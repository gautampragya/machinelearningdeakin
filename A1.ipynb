{
 "cells": [
  {
   "cell_type": "markdown",
   "metadata": {
    "colab_type": "text",
    "id": "1cBt-DED-MC9"
   },
   "source": [
    "#**SIT 720 - Machine Learning**\n",
    "\n",
    "Lecturer: Chandan Karmakar | karmakar@deakin.edu.au\n",
    "\n",
    "School of Information Technology,\n",
    "<br/>Deakin University, VIC 3125, Australia."
   ]
  },
  {
   "cell_type": "markdown",
   "metadata": {
    "colab_type": "text",
    "id": "qSfW2iPaFFq5"
   },
   "source": [
    "#**Assessment Task 1 (20 marks)**\n",
    "\n",
    "##**Submission Instruction**\n",
    "1.  Student should insert Python code or text responses into the cell followed by the question.\n",
    "\n",
    "2.  For answers regarding discussion or explanation, **maximum five sentences are suggested**.\n",
    "\n",
    "3.  Rename this notebook file appending your student ID. For example, for student ID 1234, the submitted file name should be A0_1234.ipynb.\n",
    "\n",
    "4.  Insert your student ID and name in the following cell."
   ]
  },
  {
   "cell_type": "code",
   "execution_count": null,
   "metadata": {
    "colab": {},
    "colab_type": "code",
    "id": "45gFUaXcF8oG"
   },
   "outputs": [],
   "source": [
    "# Student ID: \n",
    "\n",
    "# Student name:\n"
   ]
  },
  {
   "cell_type": "markdown",
   "metadata": {
    "colab_type": "text",
    "id": "JtEbRsB1_P_j"
   },
   "source": [
    "\n",
    "\n",
    "##**Background**\n",
    "Selection of housing is always difficult for someone seeking for a suitable one as it includes various factors and preferences. People prefer to buy a house considering many criteria like- population, quality of life, financial capability, as well as social and natural environments around the housing block. In this assignment you will be helping people choosing suitable housing for them according to their needs.\n",
    "##**Dataset**\n",
    "**Dataset file name:** housing_dataset.csv\n",
    "\n",
    "**Dataset description:** Dataset contains total 10 features (columns). It contains the location, housing age, population, number of families in a housing (block), number of rooms, average income of the families in that housing, ocean proximity and other informaiton. Each row indicates a record of a housing block containing the features mentioned earlier.\n",
    "\n",
    "**Features:** \n",
    "\n",
    "1.   latitude (float): Latitude of the location of a housing in conventional geospace\n",
    "2.   longitude (float): Longitude of the location of a housing in conventional geospace\n",
    "3.   housing_age (int): Age of the housing in year, the higher number indicates the older housing\n",
    "4.    total_rooms (int): Total number of rooms in a housing\n",
    "5.    total_bedrooms (int): Total number of bedrooms in a housing\n",
    "6.    population (int): Total population of a housing\n",
    "7.    families (int): Total number of families living in a housing\n",
    "8.    average_income (float): Average income of the member of a housing in a scale of Tousand Dollar Per Month\n",
    "9.    ocean_proximity (string): Describing how close the housing is to the ocean\n",
    "10.   house_value (int): Average individual house price of a housing in Dollers\n"
   ]
  },
  {
   "cell_type": "markdown",
   "metadata": {
    "colab_type": "text",
    "id": "rQs2cqHo_7wC"
   },
   "source": [
    "\n",
    "\n",
    "##**Part-1: Basic Calculations:**  *(8 marks: 8 questions x 1 marks each)*\n",
    "\n",
    "\n",
    "1.   Find the distances of the farthest and nearest housing blocks from the house block described in the first row of the dataset."
   ]
  },
  {
   "cell_type": "code",
   "execution_count": 47,
   "metadata": {
    "colab": {},
    "colab_type": "code",
    "id": "O0r1-UqH__3s"
   },
   "outputs": [
    {
     "name": "stdout",
     "output_type": "stream",
     "text": [
      "Maximum distance in KM 895.7150559809536\n",
      "Minimum distance in KM 0.877108811954986\n"
     ]
    }
   ],
   "source": [
    "# We need pandas, numpy, \n",
    "import pandas as pd\n",
    "import numpy as np\n",
    "from math import radians\n",
    "\n",
    "def get_gps_coordinates(row):\n",
    "    return (row['latitude'], row['longitude'])\n",
    "\n",
    "def get_haversine_distance(lat1,lon1, row):\n",
    "    #get coordinates from row\n",
    "    lat2,lon2 = get_gps_coordinates(row)\n",
    "    #change to radians to use with haversine formula\n",
    "    lat1,lon1, lat2,lon2 = map(radians, [lat1,lon1, lat2,lon2])\n",
    "    #calculate haversine distance\n",
    "    distance = 2 * np.arcsin(( np.sin((lat2-lat1)/2)**2 + np.cos(lat1) * np.cos(lat2) * np.sin((lon2-lon1)/2)**2 )**.5)\n",
    "    #convert to km by multiplying with earth's radius\n",
    "    km = 6367 * distance\n",
    "    return km\n",
    "\n",
    "# Read dataset\n",
    "df = pd.read_csv('housing_dataset.csv')\n",
    "# Get first row\n",
    "lat,lon = get_gps_coordinates(df.iloc[0])\n",
    "# Add new column distance from haversine formula\n",
    "df['distance'] = df.apply(lambda row: get_haversine_distance(lat,lon, row), axis=1)\n",
    "# Remove first row form df\n",
    "df1=df.iloc[1:]\n",
    "# Get max and min distance\n",
    "print(\"Maximum distance in KM\",df1['distance'].max())\n",
    "print('Minimum distance in KM',df1['distance'].min())\n",
    "# No need to sort\n",
    "#df.sort_values( by='distance')"
   ]
  },
  {
   "cell_type": "markdown",
   "metadata": {
    "colab_type": "text",
    "id": "CGNHL-MAACPJ"
   },
   "source": [
    "2.   Calculate the average age of the house blocks near the ocean."
   ]
  },
  {
   "cell_type": "code",
   "execution_count": 48,
   "metadata": {
    "colab": {},
    "colab_type": "code",
    "id": "-PmJE7wPAHeQ"
   },
   "outputs": [
    {
     "data": {
      "text/plain": [
       "29.347253574115875"
      ]
     },
     "execution_count": 48,
     "metadata": {},
     "output_type": "execute_result"
    }
   ],
   "source": [
    "# Separate only data that are near ocean\n",
    "#df_no = df[df['ocean_proximity']=='NEAR OCEAN']\n",
    "\n",
    "# Aggregate all values by column ocean_proximity\n",
    "aggregated = df.groupby('ocean_proximity').agg(np.mean)\n",
    "# Average age of household blocks near ocean\n",
    "aggregated.loc['NEAR OCEAN']['housing_age']\n"
   ]
  },
  {
   "cell_type": "markdown",
   "metadata": {
    "colab_type": "text",
    "id": "7xx5_8BlASae"
   },
   "source": [
    "3.   Find the income of the housing block with the most and least population density (per family)."
   ]
  },
  {
   "cell_type": "code",
   "execution_count": 109,
   "metadata": {
    "colab": {},
    "colab_type": "code",
    "id": "mC3E-Fq6AYTm"
   },
   "outputs": [
    {
     "name": "stdout",
     "output_type": "stream",
     "text": [
      "The household with highest population density of 1243.3333333333333 is 10.2264\n",
      "The household with highest population density of 0.6923076923076923 is 2.5893\n"
     ]
    }
   ],
   "source": [
    "# Get population density by dividing population by number of families in housing block\n",
    "df['population_density'] = df['population']/df['families']\n",
    "# Get row with max population density\n",
    "rmax = df[df['population_density']==df['population_density'].max()]\n",
    "print('The household with highest population density of',rmax.iloc[0,-1],'is',rmax.iloc[0,7])\n",
    "# Get row with min population density\n",
    "rmin = df[df['population_density']==df['population_density'].min()]\n",
    "print('The household with highest population density of',rmin.iloc[0,-1],'is',rmin.iloc[0,7])"
   ]
  },
  {
   "cell_type": "markdown",
   "metadata": {
    "colab_type": "text",
    "id": "fvMmRTzpAd5J"
   },
   "source": [
    "4.   Calculate the price difference between the latest and oldest housing block from the dataset."
   ]
  },
  {
   "cell_type": "code",
   "execution_count": 124,
   "metadata": {
    "colab": {},
    "colab_type": "code",
    "id": "4rKQUPpyAfWQ"
   },
   "outputs": [
    {
     "name": "stdout",
     "output_type": "stream",
     "text": [
      "For oldest housing, min, avg, max, difference are:  14999 275420.87117046345 500001 485002\n",
      "For latest housing, min, avg, max, difference are:  55000 144300.0 191300 136300\n",
      "For highest and lowest housing, min, avg, max, difference are:  14999 275010.1558339859 500001 485002\n"
     ]
    }
   ],
   "source": [
    "# Find latest and oldest housing blocks\n",
    "oldest = df[df['housing_age']==df['housing_age'].max()]\n",
    "latest = df[df['housing_age']==df['housing_age'].min()]\n",
    "# Price difference within the group\n",
    "oldest_min = oldest['house_value'].min()\n",
    "oldest_avg = oldest.mean()['house_value']\n",
    "oldest_max = oldest['house_value'].max()\n",
    "print(\"For oldest housing, min, avg, max, difference are: \",oldest_min, oldest_avg, oldest_max, oldest_max-oldest_min)\n",
    "latest_min = latest['house_value'].min()\n",
    "latest_avg = latest.mean()['house_value']\n",
    "latest_max = latest['house_value'].max()\n",
    "print(\"For latest housing, min, avg, max, difference are: \",latest_min, latest_avg, latest_max, latest_max-latest_min)\n",
    "#price difference among different group\n",
    "allhousing = pd.concat([oldest,latest])\n",
    "all_min = allhousing['house_value'].min()\n",
    "all_avg = allhousing.mean()['house_value']\n",
    "all_max = allhousing['house_value'].max()\n",
    "print(\"For highest and lowest housing, min, avg, max, difference are: \",all_min, all_avg, all_max, all_max-all_min)"
   ]
  },
  {
   "cell_type": "markdown",
   "metadata": {
    "colab_type": "text",
    "id": "pZl4zZM9Akg-"
   },
   "source": [
    "5.   Calculate the cheapest price per room from the dataset."
   ]
  },
  {
   "cell_type": "code",
   "execution_count": 128,
   "metadata": {
    "colab": {},
    "colab_type": "code",
    "id": "NgSh7WpaAlb1"
   },
   "outputs": [
    {
     "data": {
      "text/plain": [
       "1.595444807757357"
      ]
     },
     "execution_count": 128,
     "metadata": {},
     "output_type": "execute_result"
    }
   ],
   "source": [
    "# INSERT your code here.\n",
    "df['price_per_room'] = df['house_value']/df['total_rooms']\n",
    "df['price_per_room'].min()"
   ]
  },
  {
   "cell_type": "markdown",
   "metadata": {
    "colab_type": "text",
    "id": "YpRQNYwGAncM"
   },
   "source": [
    "6.   Calculate the population density (per family) for the most and least wealthy housing blocks in the dataset."
   ]
  },
  {
   "cell_type": "code",
   "execution_count": 144,
   "metadata": {
    "colab": {},
    "colab_type": "code",
    "id": "RtKpkz57AqVl"
   },
   "outputs": [
    {
     "name": "stdout",
     "output_type": "stream",
     "text": [
      "Population density of most wealthy is 3.307545896889619 and least wealthy is 3.4754772079772085\n"
     ]
    }
   ],
   "source": [
    "# INSERT your code here.\n",
    "pd_max = df[df['average_income']==df['average_income'].max()]['population_density'].mean()\n",
    "pd_min = df[df['average_income']==df['average_income'].min()]['population_density'].mean()\n",
    "print('Population density of most wealthy is',pd_max,'and least wealthy is',pd_min)"
   ]
  },
  {
   "cell_type": "markdown",
   "metadata": {
    "colab_type": "text",
    "id": "nj1raWPgAsiy"
   },
   "source": [
    "7.   Calculate and print the total housing blocks located in the same place."
   ]
  },
  {
   "cell_type": "code",
   "execution_count": 198,
   "metadata": {
    "colab": {},
    "colab_type": "code",
    "id": "AHI-K9m-AwDR"
   },
   "outputs": [
    {
     "data": {
      "text/html": [
       "<div>\n",
       "<style scoped>\n",
       "    .dataframe tbody tr th:only-of-type {\n",
       "        vertical-align: middle;\n",
       "    }\n",
       "\n",
       "    .dataframe tbody tr th {\n",
       "        vertical-align: top;\n",
       "    }\n",
       "\n",
       "    .dataframe thead th {\n",
       "        text-align: right;\n",
       "    }\n",
       "</style>\n",
       "<table border=\"1\" class=\"dataframe\">\n",
       "  <thead>\n",
       "    <tr style=\"text-align: right;\">\n",
       "      <th></th>\n",
       "      <th>longitude</th>\n",
       "      <th>latitude</th>\n",
       "      <th>housing_age</th>\n",
       "      <th>total_rooms</th>\n",
       "      <th>total_bedrooms</th>\n",
       "      <th>population</th>\n",
       "      <th>families</th>\n",
       "      <th>average_income</th>\n",
       "      <th>house_value</th>\n",
       "      <th>distance</th>\n",
       "      <th>population_density</th>\n",
       "      <th>price_per_room</th>\n",
       "      <th>price_difference</th>\n",
       "    </tr>\n",
       "    <tr>\n",
       "      <th>ocean_proximity</th>\n",
       "      <th></th>\n",
       "      <th></th>\n",
       "      <th></th>\n",
       "      <th></th>\n",
       "      <th></th>\n",
       "      <th></th>\n",
       "      <th></th>\n",
       "      <th></th>\n",
       "      <th></th>\n",
       "      <th></th>\n",
       "      <th></th>\n",
       "      <th></th>\n",
       "      <th></th>\n",
       "    </tr>\n",
       "  </thead>\n",
       "  <tbody>\n",
       "    <tr>\n",
       "      <th>&lt;1H OCEAN</th>\n",
       "      <td>9136</td>\n",
       "      <td>9136</td>\n",
       "      <td>9136</td>\n",
       "      <td>9136</td>\n",
       "      <td>9034</td>\n",
       "      <td>9136</td>\n",
       "      <td>9136</td>\n",
       "      <td>9136</td>\n",
       "      <td>9136</td>\n",
       "      <td>9136</td>\n",
       "      <td>9136</td>\n",
       "      <td>9136</td>\n",
       "      <td>9136</td>\n",
       "    </tr>\n",
       "    <tr>\n",
       "      <th>INLAND</th>\n",
       "      <td>6551</td>\n",
       "      <td>6551</td>\n",
       "      <td>6551</td>\n",
       "      <td>6551</td>\n",
       "      <td>6496</td>\n",
       "      <td>6551</td>\n",
       "      <td>6551</td>\n",
       "      <td>6551</td>\n",
       "      <td>6551</td>\n",
       "      <td>6551</td>\n",
       "      <td>6551</td>\n",
       "      <td>6551</td>\n",
       "      <td>6551</td>\n",
       "    </tr>\n",
       "    <tr>\n",
       "      <th>ISLAND</th>\n",
       "      <td>5</td>\n",
       "      <td>5</td>\n",
       "      <td>5</td>\n",
       "      <td>5</td>\n",
       "      <td>5</td>\n",
       "      <td>5</td>\n",
       "      <td>5</td>\n",
       "      <td>5</td>\n",
       "      <td>5</td>\n",
       "      <td>5</td>\n",
       "      <td>5</td>\n",
       "      <td>5</td>\n",
       "      <td>5</td>\n",
       "    </tr>\n",
       "    <tr>\n",
       "      <th>NEAR BAY</th>\n",
       "      <td>2290</td>\n",
       "      <td>2290</td>\n",
       "      <td>2290</td>\n",
       "      <td>2290</td>\n",
       "      <td>2270</td>\n",
       "      <td>2290</td>\n",
       "      <td>2290</td>\n",
       "      <td>2290</td>\n",
       "      <td>2290</td>\n",
       "      <td>2290</td>\n",
       "      <td>2290</td>\n",
       "      <td>2290</td>\n",
       "      <td>2290</td>\n",
       "    </tr>\n",
       "    <tr>\n",
       "      <th>NEAR OCEAN</th>\n",
       "      <td>2658</td>\n",
       "      <td>2658</td>\n",
       "      <td>2658</td>\n",
       "      <td>2658</td>\n",
       "      <td>2628</td>\n",
       "      <td>2658</td>\n",
       "      <td>2658</td>\n",
       "      <td>2658</td>\n",
       "      <td>2658</td>\n",
       "      <td>2658</td>\n",
       "      <td>2658</td>\n",
       "      <td>2658</td>\n",
       "      <td>2658</td>\n",
       "    </tr>\n",
       "  </tbody>\n",
       "</table>\n",
       "</div>"
      ],
      "text/plain": [
       "                 longitude  latitude  housing_age  total_rooms  \\\n",
       "ocean_proximity                                                  \n",
       "<1H OCEAN             9136      9136         9136         9136   \n",
       "INLAND                6551      6551         6551         6551   \n",
       "ISLAND                   5         5            5            5   \n",
       "NEAR BAY              2290      2290         2290         2290   \n",
       "NEAR OCEAN            2658      2658         2658         2658   \n",
       "\n",
       "                 total_bedrooms  population  families  average_income  \\\n",
       "ocean_proximity                                                         \n",
       "<1H OCEAN                  9034        9136      9136            9136   \n",
       "INLAND                     6496        6551      6551            6551   \n",
       "ISLAND                        5           5         5               5   \n",
       "NEAR BAY                   2270        2290      2290            2290   \n",
       "NEAR OCEAN                 2628        2658      2658            2658   \n",
       "\n",
       "                 house_value  distance  population_density  price_per_room  \\\n",
       "ocean_proximity                                                              \n",
       "<1H OCEAN               9136      9136                9136            9136   \n",
       "INLAND                  6551      6551                6551            6551   \n",
       "ISLAND                     5         5                   5               5   \n",
       "NEAR BAY                2290      2290                2290            2290   \n",
       "NEAR OCEAN              2658      2658                2658            2658   \n",
       "\n",
       "                 price_difference  \n",
       "ocean_proximity                    \n",
       "<1H OCEAN                    9136  \n",
       "INLAND                       6551  \n",
       "ISLAND                          5  \n",
       "NEAR BAY                     2290  \n",
       "NEAR OCEAN                   2658  "
      ]
     },
     "execution_count": 198,
     "metadata": {},
     "output_type": "execute_result"
    }
   ],
   "source": [
    "# INSERT your code here.\n",
    "# Don't know how to define same place?\n",
    "# considering ocean proximity as same place\n",
    "df.groupby('ocean_proximity').count()"
   ]
  },
  {
   "cell_type": "markdown",
   "metadata": {
    "colab_type": "text",
    "id": "44Ak48NQA1G8"
   },
   "source": [
    "8.   Calculate the price of expensive room grouped by ocean proximity."
   ]
  },
  {
   "cell_type": "code",
   "execution_count": 154,
   "metadata": {
    "colab": {},
    "colab_type": "code",
    "id": "wuMgmiElA2Eo"
   },
   "outputs": [
    {
     "data": {
      "text/plain": [
       "ocean_proximity\n",
       "<1H OCEAN     22500.000000\n",
       "INLAND        68750.000000\n",
       "ISLAND          451.807229\n",
       "NEAR BAY      62500.125000\n",
       "NEAR OCEAN    23333.333333\n",
       "Name: price_per_room, dtype: float64"
      ]
     },
     "execution_count": 154,
     "metadata": {},
     "output_type": "execute_result"
    }
   ],
   "source": [
    "# INSERT your code here. \n",
    "df.groupby('ocean_proximity').max()['price_per_room']"
   ]
  },
  {
   "cell_type": "markdown",
   "metadata": {
    "colab_type": "text",
    "id": "DtPZm2IpA4_u"
   },
   "source": [
    "##**Part-2: Visualization:**  *(6 marks: 3 question x 2 marks each)*\n",
    "\n",
    "\n",
    "1.   Draw the population scatter plot against housing age and another against ocean proximity. From the graph conclude an assumption."
   ]
  },
  {
   "cell_type": "code",
   "execution_count": 168,
   "metadata": {
    "colab": {},
    "colab_type": "code",
    "id": "iKJ8-NjgA9fE"
   },
   "outputs": [
    {
     "data": {
      "image/png": "[encoded data removed]",
      "text/plain": [
       "<Figure size 432x288 with 1 Axes>"
      ]
     },
     "metadata": {
      "needs_background": "light"
     },
     "output_type": "display_data"
    },
    {
     "data": {
      "image/png": "[encoded data removed]",
      "text/plain": [
       "<Figure size 432x288 with 1 Axes>"
      ]
     },
     "metadata": {
      "needs_background": "light"
     },
     "output_type": "display_data"
    }
   ],
   "source": [
    "# INSERT your code here.\n",
    "import matplotlib.pyplot as plt\n",
    "\n",
    "fig1 = plt.figure()\n",
    "ax = fig1.add_subplot(1,1,1)\n",
    "ax.set_xlabel('Population')\n",
    "ax.set_ylabel('Housing age')\n",
    "ax.set_title(\"Plot of Population by Housing age\")\n",
    "ax.scatter(df['population'],df['housing_age']) #You can also add more variables here to represent color and size.\n",
    "plt.show()\n",
    "\n",
    "fig2 = plt.figure()\n",
    "ax = fig2.add_subplot(1,1,1)\n",
    "ax.set_xlabel('Population')\n",
    "ax.set_ylabel('Ocean Proximity')\n",
    "ax.set_title(\"Plot of Population by Ocean Proxiity\")\n",
    "ax.scatter(df['population'],df['ocean_proximity']) #You can also add more variables here to represent color and size.\n",
    "plt.show()"
   ]
  },
  {
   "cell_type": "markdown",
   "metadata": {
    "colab_type": "text",
    "id": "WAm9CdIsA_yi"
   },
   "source": [
    "2.  Draw a bar diagram of average values of all suitable columns. (excluding latitude, longitude and ocean proximity of course)."
   ]
  },
  {
   "cell_type": "code",
   "execution_count": 169,
   "metadata": {
    "colab": {},
    "colab_type": "code",
    "id": "RKwoOm5OBC6w"
   },
   "outputs": [
    {
     "name": "stderr",
     "output_type": "stream",
     "text": [
      "C:\\Users\\ACER\\anaconda3\\lib\\site-packages\\ipykernel_launcher.py:4: SettingWithCopyWarning: \n",
      "A value is trying to be set on a copy of a slice from a DataFrame.\n",
      "Try using .loc[row_indexer,col_indexer] = value instead\n",
      "\n",
      "See the caveats in the documentation: https://pandas.pydata.org/pandas-docs/stable/user_guide/indexing.html#returning-a-view-versus-a-copy\n",
      "  after removing the cwd from sys.path.\n"
     ]
    },
    {
     "data": {
      "image/png": "[encoded data removed]",
      "text/plain": [
       "<Figure size 432x288 with 1 Axes>"
      ]
     },
     "metadata": {
      "needs_background": "light"
     },
     "output_type": "display_data"
    }
   ],
   "source": [
    "# INSERT your code here.\n",
    "df1 = df[['housing_age','total_rooms','total_bedrooms','population','families','average_income','house_value']]\n",
    "# Following two lines for reducing assymetricity in graph. May be ommitted\n",
    "df1['house_value_in_00'] = df1['house_value']/100\n",
    "df1 = df1[['housing_age','total_rooms','total_bedrooms','population','families','average_income','house_value_in_00']]\n",
    "\n",
    "averaged = df1.mean()\n",
    "\n",
    "fig = plt.figure()\n",
    "ax1 = fig.add_subplot(1,1,1)\n",
    "ax1.set_xlabel('Variables')\n",
    "ax1.set_ylabel('Average')\n",
    "ax1.set_title(\"Average of different variables\")\n",
    "averaged.plot(kind='bar')\n",
    "plt.show()"
   ]
  },
  {
   "cell_type": "markdown",
   "metadata": {
    "colab_type": "text",
    "id": "EupiTHf8BEvA"
   },
   "source": [
    "3.   Visualize the differences in housing prices from the average price of housing using a bar diagram."
   ]
  },
  {
   "cell_type": "code",
   "execution_count": 178,
   "metadata": {
    "colab": {},
    "colab_type": "code",
    "id": "j6tBhj2PBIZK"
   },
   "outputs": [
    {
     "data": {
      "image/png": "[encoded data removed]",
      "text/plain": [
       "<Figure size 432x288 with 1 Axes>"
      ]
     },
     "metadata": {
      "needs_background": "light"
     },
     "output_type": "display_data"
    }
   ],
   "source": [
    "# INSERT your code here.\n",
    "average_price = df.mean()['house_value']\n",
    "df['price_difference'] = average_price-df['house_value']\n",
    "\n",
    "\n",
    "fig = plt.figure()\n",
    "ax1 = fig.add_subplot(1,1,1)\n",
    "ax1.set_ylabel('House Price')\n",
    "ax1.set_title(\"Difference with average house price\")\n",
    "plt.tick_params(\n",
    "    axis='x',          # changes apply to the x-axis\n",
    "    which='both',      # both major and minor ticks are affected\n",
    "    bottom=False,      # ticks along the bottom edge are off\n",
    "    top=False,         # ticks along the top edge are off\n",
    "    labelbottom=False) # labels along the bottom edge are off\n",
    "df['price_difference'].plot(kind='bar')\n",
    "plt.show()"
   ]
  },
  {
   "cell_type": "markdown",
   "metadata": {
    "colab_type": "text",
    "id": "FgBaJ0rWBKk-"
   },
   "source": [
    "##**Part-3: File Management:**  *(6 marks: 2 question x 3 marks each)*\n",
    "\n",
    " \n",
    "\n",
    "1.   Save the details of all housing blocks in a csv file having houses near oceans and  lower than the average of the housing value."
   ]
  },
  {
   "cell_type": "code",
   "execution_count": 180,
   "metadata": {
    "colab": {},
    "colab_type": "code",
    "id": "c0BR_AMxBOu_"
   },
   "outputs": [
    {
     "data": {
      "text/html": [
       "<div>\n",
       "<style scoped>\n",
       "    .dataframe tbody tr th:only-of-type {\n",
       "        vertical-align: middle;\n",
       "    }\n",
       "\n",
       "    .dataframe tbody tr th {\n",
       "        vertical-align: top;\n",
       "    }\n",
       "\n",
       "    .dataframe thead th {\n",
       "        text-align: right;\n",
       "    }\n",
       "</style>\n",
       "<table border=\"1\" class=\"dataframe\">\n",
       "  <thead>\n",
       "    <tr style=\"text-align: right;\">\n",
       "      <th></th>\n",
       "      <th>longitude</th>\n",
       "      <th>latitude</th>\n",
       "      <th>housing_age</th>\n",
       "      <th>total_rooms</th>\n",
       "      <th>total_bedrooms</th>\n",
       "      <th>population</th>\n",
       "      <th>families</th>\n",
       "      <th>average_income</th>\n",
       "      <th>ocean_proximity</th>\n",
       "      <th>house_value</th>\n",
       "    </tr>\n",
       "  </thead>\n",
       "  <tbody>\n",
       "    <tr>\n",
       "      <th>5276</th>\n",
       "      <td>-118.55</td>\n",
       "      <td>33.99</td>\n",
       "      <td>39</td>\n",
       "      <td>2603</td>\n",
       "      <td>456.0</td>\n",
       "      <td>928</td>\n",
       "      <td>410</td>\n",
       "      <td>7.9096</td>\n",
       "      <td>NEAR OCEAN</td>\n",
       "      <td>500001</td>\n",
       "    </tr>\n",
       "    <tr>\n",
       "      <th>5618</th>\n",
       "      <td>-118.23</td>\n",
       "      <td>33.78</td>\n",
       "      <td>20</td>\n",
       "      <td>59</td>\n",
       "      <td>24.0</td>\n",
       "      <td>69</td>\n",
       "      <td>23</td>\n",
       "      <td>2.5588</td>\n",
       "      <td>NEAR OCEAN</td>\n",
       "      <td>350000</td>\n",
       "    </tr>\n",
       "    <tr>\n",
       "      <th>5635</th>\n",
       "      <td>-118.28</td>\n",
       "      <td>33.75</td>\n",
       "      <td>21</td>\n",
       "      <td>2442</td>\n",
       "      <td>719.0</td>\n",
       "      <td>1916</td>\n",
       "      <td>646</td>\n",
       "      <td>1.2276</td>\n",
       "      <td>NEAR OCEAN</td>\n",
       "      <td>208300</td>\n",
       "    </tr>\n",
       "    <tr>\n",
       "      <th>5636</th>\n",
       "      <td>-118.28</td>\n",
       "      <td>33.74</td>\n",
       "      <td>16</td>\n",
       "      <td>855</td>\n",
       "      <td>271.0</td>\n",
       "      <td>486</td>\n",
       "      <td>250</td>\n",
       "      <td>0.7591</td>\n",
       "      <td>NEAR OCEAN</td>\n",
       "      <td>350000</td>\n",
       "    </tr>\n",
       "    <tr>\n",
       "      <th>5641</th>\n",
       "      <td>-118.30</td>\n",
       "      <td>33.74</td>\n",
       "      <td>47</td>\n",
       "      <td>2223</td>\n",
       "      <td>410.0</td>\n",
       "      <td>1163</td>\n",
       "      <td>413</td>\n",
       "      <td>4.4671</td>\n",
       "      <td>NEAR OCEAN</td>\n",
       "      <td>270800</td>\n",
       "    </tr>\n",
       "    <tr>\n",
       "      <th>...</th>\n",
       "      <td>...</td>\n",
       "      <td>...</td>\n",
       "      <td>...</td>\n",
       "      <td>...</td>\n",
       "      <td>...</td>\n",
       "      <td>...</td>\n",
       "      <td>...</td>\n",
       "      <td>...</td>\n",
       "      <td>...</td>\n",
       "      <td>...</td>\n",
       "    </tr>\n",
       "    <tr>\n",
       "      <th>20380</th>\n",
       "      <td>-118.83</td>\n",
       "      <td>34.14</td>\n",
       "      <td>16</td>\n",
       "      <td>1316</td>\n",
       "      <td>194.0</td>\n",
       "      <td>450</td>\n",
       "      <td>173</td>\n",
       "      <td>10.1597</td>\n",
       "      <td>NEAR OCEAN</td>\n",
       "      <td>500001</td>\n",
       "    </tr>\n",
       "    <tr>\n",
       "      <th>20381</th>\n",
       "      <td>-118.83</td>\n",
       "      <td>34.14</td>\n",
       "      <td>16</td>\n",
       "      <td>1956</td>\n",
       "      <td>312.0</td>\n",
       "      <td>671</td>\n",
       "      <td>319</td>\n",
       "      <td>6.4001</td>\n",
       "      <td>NEAR OCEAN</td>\n",
       "      <td>321800</td>\n",
       "    </tr>\n",
       "    <tr>\n",
       "      <th>20423</th>\n",
       "      <td>-119.00</td>\n",
       "      <td>34.08</td>\n",
       "      <td>17</td>\n",
       "      <td>1822</td>\n",
       "      <td>438.0</td>\n",
       "      <td>578</td>\n",
       "      <td>291</td>\n",
       "      <td>5.4346</td>\n",
       "      <td>NEAR OCEAN</td>\n",
       "      <td>428600</td>\n",
       "    </tr>\n",
       "    <tr>\n",
       "      <th>20424</th>\n",
       "      <td>-118.75</td>\n",
       "      <td>34.18</td>\n",
       "      <td>4</td>\n",
       "      <td>16704</td>\n",
       "      <td>2704.0</td>\n",
       "      <td>6187</td>\n",
       "      <td>2207</td>\n",
       "      <td>6.6122</td>\n",
       "      <td>NEAR OCEAN</td>\n",
       "      <td>357600</td>\n",
       "    </tr>\n",
       "    <tr>\n",
       "      <th>20425</th>\n",
       "      <td>-118.75</td>\n",
       "      <td>34.17</td>\n",
       "      <td>18</td>\n",
       "      <td>6217</td>\n",
       "      <td>858.0</td>\n",
       "      <td>2703</td>\n",
       "      <td>834</td>\n",
       "      <td>6.8075</td>\n",
       "      <td>NEAR OCEAN</td>\n",
       "      <td>325900</td>\n",
       "    </tr>\n",
       "  </tbody>\n",
       "</table>\n",
       "<p>1514 rows × 10 columns</p>\n",
       "</div>"
      ],
      "text/plain": [
       "       longitude  latitude  housing_age  total_rooms  total_bedrooms  \\\n",
       "5276     -118.55     33.99           39         2603           456.0   \n",
       "5618     -118.23     33.78           20           59            24.0   \n",
       "5635     -118.28     33.75           21         2442           719.0   \n",
       "5636     -118.28     33.74           16          855           271.0   \n",
       "5641     -118.30     33.74           47         2223           410.0   \n",
       "...          ...       ...          ...          ...             ...   \n",
       "20380    -118.83     34.14           16         1316           194.0   \n",
       "20381    -118.83     34.14           16         1956           312.0   \n",
       "20423    -119.00     34.08           17         1822           438.0   \n",
       "20424    -118.75     34.18            4        16704          2704.0   \n",
       "20425    -118.75     34.17           18         6217           858.0   \n",
       "\n",
       "       population  families  average_income ocean_proximity  house_value  \n",
       "5276          928       410          7.9096      NEAR OCEAN       500001  \n",
       "5618           69        23          2.5588      NEAR OCEAN       350000  \n",
       "5635         1916       646          1.2276      NEAR OCEAN       208300  \n",
       "5636          486       250          0.7591      NEAR OCEAN       350000  \n",
       "5641         1163       413          4.4671      NEAR OCEAN       270800  \n",
       "...           ...       ...             ...             ...          ...  \n",
       "20380         450       173         10.1597      NEAR OCEAN       500001  \n",
       "20381         671       319          6.4001      NEAR OCEAN       321800  \n",
       "20423         578       291          5.4346      NEAR OCEAN       428600  \n",
       "20424        6187      2207          6.6122      NEAR OCEAN       357600  \n",
       "20425        2703       834          6.8075      NEAR OCEAN       325900  \n",
       "\n",
       "[1514 rows x 10 columns]"
      ]
     },
     "execution_count": 180,
     "metadata": {},
     "output_type": "execute_result"
    }
   ],
   "source": [
    "# INSERT your code here.\n",
    "df2 = df[df['ocean_proximity']=='NEAR OCEAN']\n",
    "df2 = df2[df2['price_difference']<0]\n",
    "df2 = df2[['longitude','latitude','housing_age','total_rooms','total_bedrooms','population','families','average_income','ocean_proximity','house_value']]\n",
    "df2.to_csv('near_oceans.csv')\n",
    "df2"
   ]
  },
  {
   "cell_type": "markdown",
   "metadata": {
    "colab_type": "text",
    "id": "KDM2MY16-qHs"
   },
   "source": [
    "\n",
    "\n",
    "\n",
    "\n",
    "\n",
    "2.   Create a new housing dataset (a csv file) having only the location, total rooms and housing price information.\n",
    "\n",
    "\n",
    "\n",
    "\n"
   ]
  },
  {
   "cell_type": "code",
   "execution_count": 183,
   "metadata": {
    "colab": {},
    "colab_type": "code",
    "id": "uwmK7HfYdzHd"
   },
   "outputs": [
    {
     "data": {
      "text/html": [
       "<div>\n",
       "<style scoped>\n",
       "    .dataframe tbody tr th:only-of-type {\n",
       "        vertical-align: middle;\n",
       "    }\n",
       "\n",
       "    .dataframe tbody tr th {\n",
       "        vertical-align: top;\n",
       "    }\n",
       "\n",
       "    .dataframe thead th {\n",
       "        text-align: right;\n",
       "    }\n",
       "</style>\n",
       "<table border=\"1\" class=\"dataframe\">\n",
       "  <thead>\n",
       "    <tr style=\"text-align: right;\">\n",
       "      <th></th>\n",
       "      <th>longitude</th>\n",
       "      <th>latitude</th>\n",
       "      <th>total_rooms</th>\n",
       "      <th>house_value</th>\n",
       "    </tr>\n",
       "  </thead>\n",
       "  <tbody>\n",
       "    <tr>\n",
       "      <th>0</th>\n",
       "      <td>-122.23</td>\n",
       "      <td>37.88</td>\n",
       "      <td>880</td>\n",
       "      <td>452600</td>\n",
       "    </tr>\n",
       "    <tr>\n",
       "      <th>1</th>\n",
       "      <td>-122.22</td>\n",
       "      <td>37.86</td>\n",
       "      <td>7099</td>\n",
       "      <td>358500</td>\n",
       "    </tr>\n",
       "    <tr>\n",
       "      <th>2</th>\n",
       "      <td>-122.24</td>\n",
       "      <td>37.85</td>\n",
       "      <td>1467</td>\n",
       "      <td>352100</td>\n",
       "    </tr>\n",
       "    <tr>\n",
       "      <th>3</th>\n",
       "      <td>-122.25</td>\n",
       "      <td>37.85</td>\n",
       "      <td>1274</td>\n",
       "      <td>341300</td>\n",
       "    </tr>\n",
       "    <tr>\n",
       "      <th>4</th>\n",
       "      <td>-122.25</td>\n",
       "      <td>37.85</td>\n",
       "      <td>1627</td>\n",
       "      <td>342200</td>\n",
       "    </tr>\n",
       "    <tr>\n",
       "      <th>...</th>\n",
       "      <td>...</td>\n",
       "      <td>...</td>\n",
       "      <td>...</td>\n",
       "      <td>...</td>\n",
       "    </tr>\n",
       "    <tr>\n",
       "      <th>20635</th>\n",
       "      <td>-121.09</td>\n",
       "      <td>39.48</td>\n",
       "      <td>1665</td>\n",
       "      <td>78100</td>\n",
       "    </tr>\n",
       "    <tr>\n",
       "      <th>20636</th>\n",
       "      <td>-121.21</td>\n",
       "      <td>39.49</td>\n",
       "      <td>697</td>\n",
       "      <td>77100</td>\n",
       "    </tr>\n",
       "    <tr>\n",
       "      <th>20637</th>\n",
       "      <td>-121.22</td>\n",
       "      <td>39.43</td>\n",
       "      <td>2254</td>\n",
       "      <td>92300</td>\n",
       "    </tr>\n",
       "    <tr>\n",
       "      <th>20638</th>\n",
       "      <td>-121.32</td>\n",
       "      <td>39.43</td>\n",
       "      <td>1860</td>\n",
       "      <td>84700</td>\n",
       "    </tr>\n",
       "    <tr>\n",
       "      <th>20639</th>\n",
       "      <td>-121.24</td>\n",
       "      <td>39.37</td>\n",
       "      <td>2785</td>\n",
       "      <td>89400</td>\n",
       "    </tr>\n",
       "  </tbody>\n",
       "</table>\n",
       "<p>20640 rows × 4 columns</p>\n",
       "</div>"
      ],
      "text/plain": [
       "       longitude  latitude  total_rooms  house_value\n",
       "0        -122.23     37.88          880       452600\n",
       "1        -122.22     37.86         7099       358500\n",
       "2        -122.24     37.85         1467       352100\n",
       "3        -122.25     37.85         1274       341300\n",
       "4        -122.25     37.85         1627       342200\n",
       "...          ...       ...          ...          ...\n",
       "20635    -121.09     39.48         1665        78100\n",
       "20636    -121.21     39.49          697        77100\n",
       "20637    -121.22     39.43         2254        92300\n",
       "20638    -121.32     39.43         1860        84700\n",
       "20639    -121.24     39.37         2785        89400\n",
       "\n",
       "[20640 rows x 4 columns]"
      ]
     },
     "execution_count": 183,
     "metadata": {},
     "output_type": "execute_result"
    }
   ],
   "source": [
    "# INSERT your code here.\n",
    "df3 = df[['longitude','latitude','total_rooms','house_value']]\n",
    "df3.to_csv('rooms.csv')\n",
    "df3"
   ]
  },
  {
   "cell_type": "code",
   "execution_count": null,
   "metadata": {},
   "outputs": [],
   "source": []
  }
 ],
 "metadata": {
  "colab": {
   "collapsed_sections": [],
   "name": "A1.ipynb",
   "provenance": []
  },
  "kernelspec": {
   "display_name": "Python 3",
   "language": "python",
   "name": "python3"
  },
  "language_info": {
   "codemirror_mode": {
    "name": "ipython",
    "version": 3
   },
   "file_extension": ".py",
   "mimetype": "text/x-python",
   "name": "python",
   "nbconvert_exporter": "python",
   "pygments_lexer": "ipython3",
   "version": "3.7.6"
  }
 },
 "nbformat": 4,
 "nbformat_minor": 4
}
